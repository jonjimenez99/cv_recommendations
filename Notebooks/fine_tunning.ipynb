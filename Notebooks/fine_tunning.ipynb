{
 "cells": [
  {
   "cell_type": "code",
   "execution_count": 39,
   "metadata": {},
   "outputs": [
    {
     "name": "stderr",
     "output_type": "stream",
     "text": [
      "huggingface/tokenizers: The current process just got forked, after parallelism has already been used. Disabling parallelism to avoid deadlocks...\n",
      "To disable this warning, you can either:\n",
      "\t- Avoid using `tokenizers` before the fork if possible\n",
      "\t- Explicitly set the environment variable TOKENIZERS_PARALLELISM=(true | false)\n"
     ]
    },
    {
     "name": "stdout",
     "output_type": "stream",
     "text": [
      "Requirement already satisfied: matplotlib in /Users/familiasofi/Documents/Repositorios_GitHub/cv_recommendations/venv/lib/python3.9/site-packages (3.9.2)\n",
      "Requirement already satisfied: python-dateutil>=2.7 in /Users/familiasofi/Documents/Repositorios_GitHub/cv_recommendations/venv/lib/python3.9/site-packages (from matplotlib) (2.9.0.post0)\n",
      "Requirement already satisfied: pillow>=8 in /Users/familiasofi/Documents/Repositorios_GitHub/cv_recommendations/venv/lib/python3.9/site-packages (from matplotlib) (11.0.0)\n",
      "Requirement already satisfied: numpy>=1.23 in /Users/familiasofi/Documents/Repositorios_GitHub/cv_recommendations/venv/lib/python3.9/site-packages (from matplotlib) (1.26.4)\n",
      "Requirement already satisfied: kiwisolver>=1.3.1 in /Users/familiasofi/Documents/Repositorios_GitHub/cv_recommendations/venv/lib/python3.9/site-packages (from matplotlib) (1.4.7)\n",
      "Requirement already satisfied: fonttools>=4.22.0 in /Users/familiasofi/Documents/Repositorios_GitHub/cv_recommendations/venv/lib/python3.9/site-packages (from matplotlib) (4.54.1)\n",
      "Requirement already satisfied: pyparsing>=2.3.1 in /Users/familiasofi/Documents/Repositorios_GitHub/cv_recommendations/venv/lib/python3.9/site-packages (from matplotlib) (3.2.0)\n",
      "Requirement already satisfied: importlib-resources>=3.2.0 in /Users/familiasofi/Documents/Repositorios_GitHub/cv_recommendations/venv/lib/python3.9/site-packages (from matplotlib) (6.4.5)\n",
      "Requirement already satisfied: packaging>=20.0 in /Users/familiasofi/Documents/Repositorios_GitHub/cv_recommendations/venv/lib/python3.9/site-packages (from matplotlib) (24.2)\n",
      "Requirement already satisfied: contourpy>=1.0.1 in /Users/familiasofi/Documents/Repositorios_GitHub/cv_recommendations/venv/lib/python3.9/site-packages (from matplotlib) (1.3.0)\n",
      "Requirement already satisfied: cycler>=0.10 in /Users/familiasofi/Documents/Repositorios_GitHub/cv_recommendations/venv/lib/python3.9/site-packages (from matplotlib) (0.12.1)\n",
      "Requirement already satisfied: zipp>=3.1.0 in /Users/familiasofi/Documents/Repositorios_GitHub/cv_recommendations/venv/lib/python3.9/site-packages (from importlib-resources>=3.2.0->matplotlib) (3.20.2)\n",
      "Requirement already satisfied: six>=1.5 in /Users/familiasofi/Documents/Repositorios_GitHub/cv_recommendations/venv/lib/python3.9/site-packages (from python-dateutil>=2.7->matplotlib) (1.16.0)\n",
      "\n",
      "\u001b[1m[\u001b[0m\u001b[34;49mnotice\u001b[0m\u001b[1;39;49m]\u001b[0m\u001b[39;49m A new release of pip is available: \u001b[0m\u001b[31;49m23.0.1\u001b[0m\u001b[39;49m -> \u001b[0m\u001b[32;49m24.3.1\u001b[0m\n",
      "\u001b[1m[\u001b[0m\u001b[34;49mnotice\u001b[0m\u001b[1;39;49m]\u001b[0m\u001b[39;49m To update, run: \u001b[0m\u001b[32;49mpip install --upgrade pip\u001b[0m\n"
     ]
    },
    {
     "name": "stderr",
     "output_type": "stream",
     "text": [
      "huggingface/tokenizers: The current process just got forked, after parallelism has already been used. Disabling parallelism to avoid deadlocks...\n",
      "To disable this warning, you can either:\n",
      "\t- Avoid using `tokenizers` before the fork if possible\n",
      "\t- Explicitly set the environment variable TOKENIZERS_PARALLELISM=(true | false)\n"
     ]
    },
    {
     "name": "stdout",
     "output_type": "stream",
     "text": [
      "Requirement already satisfied: optimum in /Users/familiasofi/Documents/Repositorios_GitHub/cv_recommendations/venv/lib/python3.9/site-packages (1.23.3)\n",
      "Requirement already satisfied: torch>=1.11 in /Users/familiasofi/Documents/Repositorios_GitHub/cv_recommendations/venv/lib/python3.9/site-packages (from optimum) (2.2.2)\n",
      "Requirement already satisfied: packaging in /Users/familiasofi/Documents/Repositorios_GitHub/cv_recommendations/venv/lib/python3.9/site-packages (from optimum) (24.2)\n",
      "Requirement already satisfied: numpy in /Users/familiasofi/Documents/Repositorios_GitHub/cv_recommendations/venv/lib/python3.9/site-packages (from optimum) (1.26.4)\n",
      "Requirement already satisfied: transformers>=4.29 in /Users/familiasofi/Documents/Repositorios_GitHub/cv_recommendations/venv/lib/python3.9/site-packages (from optimum) (4.46.2)\n",
      "Requirement already satisfied: huggingface-hub>=0.8.0 in /Users/familiasofi/Documents/Repositorios_GitHub/cv_recommendations/venv/lib/python3.9/site-packages (from optimum) (0.26.2)\n",
      "Requirement already satisfied: datasets in /Users/familiasofi/Documents/Repositorios_GitHub/cv_recommendations/venv/lib/python3.9/site-packages (from optimum) (3.1.0)\n",
      "Requirement already satisfied: coloredlogs in /Users/familiasofi/Documents/Repositorios_GitHub/cv_recommendations/venv/lib/python3.9/site-packages (from optimum) (15.0.1)\n",
      "Requirement already satisfied: sympy in /Users/familiasofi/Documents/Repositorios_GitHub/cv_recommendations/venv/lib/python3.9/site-packages (from optimum) (1.13.3)\n",
      "Requirement already satisfied: tqdm>=4.42.1 in /Users/familiasofi/Documents/Repositorios_GitHub/cv_recommendations/venv/lib/python3.9/site-packages (from huggingface-hub>=0.8.0->optimum) (4.67.0)\n",
      "Requirement already satisfied: pyyaml>=5.1 in /Users/familiasofi/Documents/Repositorios_GitHub/cv_recommendations/venv/lib/python3.9/site-packages (from huggingface-hub>=0.8.0->optimum) (6.0.2)\n",
      "Requirement already satisfied: filelock in /Users/familiasofi/Documents/Repositorios_GitHub/cv_recommendations/venv/lib/python3.9/site-packages (from huggingface-hub>=0.8.0->optimum) (3.16.1)\n",
      "Requirement already satisfied: typing-extensions>=3.7.4.3 in /Users/familiasofi/Documents/Repositorios_GitHub/cv_recommendations/venv/lib/python3.9/site-packages (from huggingface-hub>=0.8.0->optimum) (4.12.2)\n",
      "Requirement already satisfied: fsspec>=2023.5.0 in /Users/familiasofi/Documents/Repositorios_GitHub/cv_recommendations/venv/lib/python3.9/site-packages (from huggingface-hub>=0.8.0->optimum) (2024.9.0)\n",
      "Requirement already satisfied: requests in /Users/familiasofi/Documents/Repositorios_GitHub/cv_recommendations/venv/lib/python3.9/site-packages (from huggingface-hub>=0.8.0->optimum) (2.32.3)\n",
      "Requirement already satisfied: networkx in /Users/familiasofi/Documents/Repositorios_GitHub/cv_recommendations/venv/lib/python3.9/site-packages (from torch>=1.11->optimum) (3.2.1)\n",
      "Requirement already satisfied: jinja2 in /Users/familiasofi/Documents/Repositorios_GitHub/cv_recommendations/venv/lib/python3.9/site-packages (from torch>=1.11->optimum) (3.1.4)\n",
      "Requirement already satisfied: safetensors>=0.4.1 in /Users/familiasofi/Documents/Repositorios_GitHub/cv_recommendations/venv/lib/python3.9/site-packages (from transformers>=4.29->optimum) (0.4.5)\n",
      "Requirement already satisfied: tokenizers<0.21,>=0.20 in /Users/familiasofi/Documents/Repositorios_GitHub/cv_recommendations/venv/lib/python3.9/site-packages (from transformers>=4.29->optimum) (0.20.3)\n",
      "Requirement already satisfied: regex!=2019.12.17 in /Users/familiasofi/Documents/Repositorios_GitHub/cv_recommendations/venv/lib/python3.9/site-packages (from transformers>=4.29->optimum) (2024.11.6)\n",
      "Requirement already satisfied: humanfriendly>=9.1 in /Users/familiasofi/Documents/Repositorios_GitHub/cv_recommendations/venv/lib/python3.9/site-packages (from coloredlogs->optimum) (10.0)\n",
      "Requirement already satisfied: dill<0.3.9,>=0.3.0 in /Users/familiasofi/Documents/Repositorios_GitHub/cv_recommendations/venv/lib/python3.9/site-packages (from datasets->optimum) (0.3.8)\n",
      "Requirement already satisfied: pandas in /Users/familiasofi/Documents/Repositorios_GitHub/cv_recommendations/venv/lib/python3.9/site-packages (from datasets->optimum) (2.2.3)\n",
      "Requirement already satisfied: pyarrow>=15.0.0 in /Users/familiasofi/Documents/Repositorios_GitHub/cv_recommendations/venv/lib/python3.9/site-packages (from datasets->optimum) (18.0.0)\n",
      "Requirement already satisfied: multiprocess<0.70.17 in /Users/familiasofi/Documents/Repositorios_GitHub/cv_recommendations/venv/lib/python3.9/site-packages (from datasets->optimum) (0.70.16)\n",
      "Requirement already satisfied: aiohttp in /Users/familiasofi/Documents/Repositorios_GitHub/cv_recommendations/venv/lib/python3.9/site-packages (from datasets->optimum) (3.10.10)\n",
      "Requirement already satisfied: xxhash in /Users/familiasofi/Documents/Repositorios_GitHub/cv_recommendations/venv/lib/python3.9/site-packages (from datasets->optimum) (3.5.0)\n",
      "Requirement already satisfied: mpmath<1.4,>=1.1.0 in /Users/familiasofi/Documents/Repositorios_GitHub/cv_recommendations/venv/lib/python3.9/site-packages (from sympy->optimum) (1.3.0)\n",
      "Requirement already satisfied: attrs>=17.3.0 in /Users/familiasofi/Documents/Repositorios_GitHub/cv_recommendations/venv/lib/python3.9/site-packages (from aiohttp->datasets->optimum) (24.2.0)\n",
      "Requirement already satisfied: aiohappyeyeballs>=2.3.0 in /Users/familiasofi/Documents/Repositorios_GitHub/cv_recommendations/venv/lib/python3.9/site-packages (from aiohttp->datasets->optimum) (2.4.3)\n",
      "Requirement already satisfied: aiosignal>=1.1.2 in /Users/familiasofi/Documents/Repositorios_GitHub/cv_recommendations/venv/lib/python3.9/site-packages (from aiohttp->datasets->optimum) (1.3.1)\n",
      "Requirement already satisfied: frozenlist>=1.1.1 in /Users/familiasofi/Documents/Repositorios_GitHub/cv_recommendations/venv/lib/python3.9/site-packages (from aiohttp->datasets->optimum) (1.5.0)\n",
      "Requirement already satisfied: async-timeout<5.0,>=4.0 in /Users/familiasofi/Documents/Repositorios_GitHub/cv_recommendations/venv/lib/python3.9/site-packages (from aiohttp->datasets->optimum) (4.0.3)\n",
      "Requirement already satisfied: multidict<7.0,>=4.5 in /Users/familiasofi/Documents/Repositorios_GitHub/cv_recommendations/venv/lib/python3.9/site-packages (from aiohttp->datasets->optimum) (6.1.0)\n",
      "Requirement already satisfied: yarl<2.0,>=1.12.0 in /Users/familiasofi/Documents/Repositorios_GitHub/cv_recommendations/venv/lib/python3.9/site-packages (from aiohttp->datasets->optimum) (1.17.1)\n",
      "Requirement already satisfied: charset-normalizer<4,>=2 in /Users/familiasofi/Documents/Repositorios_GitHub/cv_recommendations/venv/lib/python3.9/site-packages (from requests->huggingface-hub>=0.8.0->optimum) (3.4.0)\n",
      "Requirement already satisfied: certifi>=2017.4.17 in /Users/familiasofi/Documents/Repositorios_GitHub/cv_recommendations/venv/lib/python3.9/site-packages (from requests->huggingface-hub>=0.8.0->optimum) (2024.8.30)\n",
      "Requirement already satisfied: urllib3<3,>=1.21.1 in /Users/familiasofi/Documents/Repositorios_GitHub/cv_recommendations/venv/lib/python3.9/site-packages (from requests->huggingface-hub>=0.8.0->optimum) (2.2.3)\n",
      "Requirement already satisfied: idna<4,>=2.5 in /Users/familiasofi/Documents/Repositorios_GitHub/cv_recommendations/venv/lib/python3.9/site-packages (from requests->huggingface-hub>=0.8.0->optimum) (3.10)\n",
      "Requirement already satisfied: MarkupSafe>=2.0 in /Users/familiasofi/Documents/Repositorios_GitHub/cv_recommendations/venv/lib/python3.9/site-packages (from jinja2->torch>=1.11->optimum) (3.0.2)\n",
      "Requirement already satisfied: pytz>=2020.1 in /Users/familiasofi/Documents/Repositorios_GitHub/cv_recommendations/venv/lib/python3.9/site-packages (from pandas->datasets->optimum) (2024.2)\n",
      "Requirement already satisfied: python-dateutil>=2.8.2 in /Users/familiasofi/Documents/Repositorios_GitHub/cv_recommendations/venv/lib/python3.9/site-packages (from pandas->datasets->optimum) (2.9.0.post0)\n",
      "Requirement already satisfied: tzdata>=2022.7 in /Users/familiasofi/Documents/Repositorios_GitHub/cv_recommendations/venv/lib/python3.9/site-packages (from pandas->datasets->optimum) (2024.2)\n",
      "Requirement already satisfied: six>=1.5 in /Users/familiasofi/Documents/Repositorios_GitHub/cv_recommendations/venv/lib/python3.9/site-packages (from python-dateutil>=2.8.2->pandas->datasets->optimum) (1.16.0)\n",
      "Requirement already satisfied: propcache>=0.2.0 in /Users/familiasofi/Documents/Repositorios_GitHub/cv_recommendations/venv/lib/python3.9/site-packages (from yarl<2.0,>=1.12.0->aiohttp->datasets->optimum) (0.2.0)\n",
      "\n",
      "\u001b[1m[\u001b[0m\u001b[34;49mnotice\u001b[0m\u001b[1;39;49m]\u001b[0m\u001b[39;49m A new release of pip is available: \u001b[0m\u001b[31;49m23.0.1\u001b[0m\u001b[39;49m -> \u001b[0m\u001b[32;49m24.3.1\u001b[0m\n",
      "\u001b[1m[\u001b[0m\u001b[34;49mnotice\u001b[0m\u001b[1;39;49m]\u001b[0m\u001b[39;49m To update, run: \u001b[0m\u001b[32;49mpip install --upgrade pip\u001b[0m\n"
     ]
    },
    {
     "name": "stderr",
     "output_type": "stream",
     "text": [
      "huggingface/tokenizers: The current process just got forked, after parallelism has already been used. Disabling parallelism to avoid deadlocks...\n",
      "To disable this warning, you can either:\n",
      "\t- Avoid using `tokenizers` before the fork if possible\n",
      "\t- Explicitly set the environment variable TOKENIZERS_PARALLELISM=(true | false)\n"
     ]
    },
    {
     "name": "stdout",
     "output_type": "stream",
     "text": [
      "Requirement already satisfied: onnxruntime in /Users/familiasofi/Documents/Repositorios_GitHub/cv_recommendations/venv/lib/python3.9/site-packages (1.19.2)\n",
      "Requirement already satisfied: coloredlogs in /Users/familiasofi/Documents/Repositorios_GitHub/cv_recommendations/venv/lib/python3.9/site-packages (from onnxruntime) (15.0.1)\n",
      "Requirement already satisfied: flatbuffers in /Users/familiasofi/Documents/Repositorios_GitHub/cv_recommendations/venv/lib/python3.9/site-packages (from onnxruntime) (24.3.25)\n",
      "Requirement already satisfied: packaging in /Users/familiasofi/Documents/Repositorios_GitHub/cv_recommendations/venv/lib/python3.9/site-packages (from onnxruntime) (24.2)\n",
      "Requirement already satisfied: numpy>=1.21.6 in /Users/familiasofi/Documents/Repositorios_GitHub/cv_recommendations/venv/lib/python3.9/site-packages (from onnxruntime) (1.26.4)\n",
      "Requirement already satisfied: sympy in /Users/familiasofi/Documents/Repositorios_GitHub/cv_recommendations/venv/lib/python3.9/site-packages (from onnxruntime) (1.13.3)\n",
      "Requirement already satisfied: protobuf in /Users/familiasofi/Documents/Repositorios_GitHub/cv_recommendations/venv/lib/python3.9/site-packages (from onnxruntime) (5.28.3)\n",
      "Requirement already satisfied: humanfriendly>=9.1 in /Users/familiasofi/Documents/Repositorios_GitHub/cv_recommendations/venv/lib/python3.9/site-packages (from coloredlogs->onnxruntime) (10.0)\n",
      "Requirement already satisfied: mpmath<1.4,>=1.1.0 in /Users/familiasofi/Documents/Repositorios_GitHub/cv_recommendations/venv/lib/python3.9/site-packages (from sympy->onnxruntime) (1.3.0)\n",
      "\n",
      "\u001b[1m[\u001b[0m\u001b[34;49mnotice\u001b[0m\u001b[1;39;49m]\u001b[0m\u001b[39;49m A new release of pip is available: \u001b[0m\u001b[31;49m23.0.1\u001b[0m\u001b[39;49m -> \u001b[0m\u001b[32;49m24.3.1\u001b[0m\n",
      "\u001b[1m[\u001b[0m\u001b[34;49mnotice\u001b[0m\u001b[1;39;49m]\u001b[0m\u001b[39;49m To update, run: \u001b[0m\u001b[32;49mpip install --upgrade pip\u001b[0m\n"
     ]
    },
    {
     "name": "stderr",
     "output_type": "stream",
     "text": [
      "huggingface/tokenizers: The current process just got forked, after parallelism has already been used. Disabling parallelism to avoid deadlocks...\n",
      "To disable this warning, you can either:\n",
      "\t- Avoid using `tokenizers` before the fork if possible\n",
      "\t- Explicitly set the environment variable TOKENIZERS_PARALLELISM=(true | false)\n"
     ]
    },
    {
     "name": "stdout",
     "output_type": "stream",
     "text": [
      "Requirement already satisfied: onnx in /Users/familiasofi/Documents/Repositorios_GitHub/cv_recommendations/venv/lib/python3.9/site-packages (1.17.0)\n",
      "Requirement already satisfied: numpy>=1.20 in /Users/familiasofi/Documents/Repositorios_GitHub/cv_recommendations/venv/lib/python3.9/site-packages (from onnx) (1.26.4)\n",
      "Requirement already satisfied: protobuf>=3.20.2 in /Users/familiasofi/Documents/Repositorios_GitHub/cv_recommendations/venv/lib/python3.9/site-packages (from onnx) (5.28.3)\n",
      "\n",
      "\u001b[1m[\u001b[0m\u001b[34;49mnotice\u001b[0m\u001b[1;39;49m]\u001b[0m\u001b[39;49m A new release of pip is available: \u001b[0m\u001b[31;49m23.0.1\u001b[0m\u001b[39;49m -> \u001b[0m\u001b[32;49m24.3.1\u001b[0m\n",
      "\u001b[1m[\u001b[0m\u001b[34;49mnotice\u001b[0m\u001b[1;39;49m]\u001b[0m\u001b[39;49m To update, run: \u001b[0m\u001b[32;49mpip install --upgrade pip\u001b[0m\n"
     ]
    },
    {
     "name": "stderr",
     "output_type": "stream",
     "text": [
      "huggingface/tokenizers: The current process just got forked, after parallelism has already been used. Disabling parallelism to avoid deadlocks...\n",
      "To disable this warning, you can either:\n",
      "\t- Avoid using `tokenizers` before the fork if possible\n",
      "\t- Explicitly set the environment variable TOKENIZERS_PARALLELISM=(true | false)\n"
     ]
    },
    {
     "name": "stdout",
     "output_type": "stream",
     "text": [
      "Collecting cupy\n",
      "  Using cached cupy-13.3.0.tar.gz (3.4 MB)\n",
      "  Preparing metadata (setup.py) ... \u001b[?25lerror\n",
      "  \u001b[1;31merror\u001b[0m: \u001b[1msubprocess-exited-with-error\u001b[0m\n",
      "  \n",
      "  \u001b[31m×\u001b[0m \u001b[32mpython setup.py egg_info\u001b[0m did not run successfully.\n",
      "  \u001b[31m│\u001b[0m exit code: \u001b[1;36m1\u001b[0m\n",
      "  \u001b[31m╰─>\u001b[0m \u001b[31m[3 lines of output]\u001b[0m\n",
      "  \u001b[31m   \u001b[0m Generating cache key from header files...\n",
      "  \u001b[31m   \u001b[0m Cache key (1610 files matching /private/var/folders/l1/xn4zqt856pd5q_jbvzm1xkz00000gn/T/pip-install-r417escw/cupy_79e3bdd8e76648ebabcd8a4d585fbb95/cupy/_core/include/**): 9495fdb044226d6afceec17bcdb39ffea36b00e0\n",
      "  \u001b[31m   \u001b[0m Error: macOS is no longer supported\n",
      "  \u001b[31m   \u001b[0m \u001b[31m[end of output]\u001b[0m\n",
      "  \n",
      "  \u001b[1;35mnote\u001b[0m: This error originates from a subprocess, and is likely not a problem with pip.\n",
      "\u001b[?25h\u001b[1;31merror\u001b[0m: \u001b[1mmetadata-generation-failed\u001b[0m\n",
      "\n",
      "\u001b[31m×\u001b[0m Encountered error while generating package metadata.\n",
      "\u001b[31m╰─>\u001b[0m See above for output.\n",
      "\n",
      "\u001b[1;35mnote\u001b[0m: This is an issue with the package mentioned above, not pip.\n",
      "\u001b[1;36mhint\u001b[0m: See above for details.\n",
      "\n",
      "\u001b[1m[\u001b[0m\u001b[34;49mnotice\u001b[0m\u001b[1;39;49m]\u001b[0m\u001b[39;49m A new release of pip is available: \u001b[0m\u001b[31;49m23.0.1\u001b[0m\u001b[39;49m -> \u001b[0m\u001b[32;49m24.3.1\u001b[0m\n",
      "\u001b[1m[\u001b[0m\u001b[34;49mnotice\u001b[0m\u001b[1;39;49m]\u001b[0m\u001b[39;49m To update, run: \u001b[0m\u001b[32;49mpip install --upgrade pip\u001b[0m\n"
     ]
    }
   ],
   "source": [
    "!pip install matplotlib\n",
    "!pip install optimum\n",
    "!pip install onnxruntime\n",
    "!pip install onnx\n",
    "!pip install cupy"
   ]
  },
  {
   "cell_type": "code",
   "execution_count": 40,
   "metadata": {},
   "outputs": [],
   "source": [
    "import pandas as pd\n",
    "import torch\n",
    "import time\n",
    "from transformers import DistilBertTokenizer, DistilBertForSequenceClassification, Trainer, TrainingArguments\n",
    "from optimum.onnxruntime import (\n",
    "    AutoQuantizationConfig,\n",
    "    ORTModelForSequenceClassification,\n",
    "    ORTQuantizer\n",
    ")\n",
    "from optimum.pipelines import pipeline\n",
    "import matplotlib.pyplot as plt\n",
    "import numpy as np\n",
    "\n",
    "# 1. Create a Dummy DataFrame for Fine-tuning\n",
    "data = {\n",
    "    \"text\": [\n",
    "        \"I bought a new laptop\",\n",
    "        \"The product is great\",\n",
    "        \"I want to return this item\",\n",
    "        \"Amazing customer service\",\n",
    "        \"I had a terrible experience\",\n",
    "        \"Great product but expensive\",\n",
    "        \"Worst purchase ever\"\n",
    "    ],\n",
    "    \"label\": [1, 0, 1, 0, 1, 0, 1]  # 1: Purchase-related, 0: Non-purchase-related\n",
    "}\n",
    "\n",
    "df = pd.DataFrame(data)"
   ]
  },
  {
   "cell_type": "code",
   "execution_count": 41,
   "metadata": {},
   "outputs": [
    {
     "name": "stderr",
     "output_type": "stream",
     "text": [
      "Map: 100%|██████████| 7/7 [00:00<00:00, 975.16 examples/s]\n",
      "Some weights of DistilBertForSequenceClassification were not initialized from the model checkpoint at distilbert-base-uncased and are newly initialized: ['classifier.bias', 'classifier.weight', 'pre_classifier.bias', 'pre_classifier.weight']\n",
      "You should probably TRAIN this model on a down-stream task to be able to use it for predictions and inference.\n",
      "Map: 100%|██████████| 5/5 [00:00<00:00, 690.92 examples/s]\n",
      "100%|██████████| 1/1 [00:06<00:00,  6.47s/it]"
     ]
    },
    {
     "name": "stdout",
     "output_type": "stream",
     "text": [
      "{'train_runtime': 6.4692, 'train_samples_per_second': 0.773, 'train_steps_per_second': 0.155, 'train_loss': 0.6979730725288391, 'epoch': 1.0}\n",
      "Tiempo de fine-tuning: 6.86 segundos\n"
     ]
    },
    {
     "name": "stderr",
     "output_type": "stream",
     "text": [
      "\n"
     ]
    }
   ],
   "source": [
    "from transformers import DistilBertTokenizer, DistilBertForSequenceClassification, Trainer, TrainingArguments\n",
    "from datasets import Dataset\n",
    "import torch\n",
    "import time\n",
    "\n",
    "# Convert the DataFrame to Hugging Face Dataset\n",
    "dataset = Dataset.from_pandas(df)\n",
    "dataset = dataset.map(tokenize_function, batched=True)\n",
    "\n",
    "# Train-test split\n",
    "train_dataset, test_dataset = dataset.train_test_split(test_size=0.2).values()\n",
    "\n",
    "\n",
    "# Cargar el tokenizer y el modelo preentrenado\n",
    "tokenizer = DistilBertTokenizer.from_pretrained('distilbert-base-uncased')\n",
    "model = DistilBertForSequenceClassification.from_pretrained('distilbert-base-uncased', num_labels=2)\n",
    "\n",
    "# Tokenizar el texto\n",
    "def tokenize_function(examples):\n",
    "    return tokenizer(examples['text'], padding='max_length', truncation=True)\n",
    "\n",
    "train_dataset = train_dataset.map(tokenize_function, batched=True)\n",
    "\n",
    "# Definir los argumentos de entrenamiento\n",
    "training_args = TrainingArguments(\n",
    "    output_dir='./results',          # Directorio de salida\n",
    "    num_train_epochs=1,              # Número de épocas\n",
    "    per_device_train_batch_size=16,   # Tamaño del batch por dispositivo\n",
    "    logging_dir='./logs',            # Directorio de logs\n",
    "    logging_steps=10,\n",
    ")\n",
    "\n",
    "# Definir el Trainer\n",
    "trainer = Trainer(\n",
    "    model=model,                         # El modelo a fine-tunear\n",
    "    args=training_args,                  # Argumentos de entrenamiento\n",
    "    train_dataset=train_dataset,         # Dataset de entrenamiento\n",
    ")\n",
    "\n",
    "# Medir el tiempo de entrenamiento\n",
    "start_time = time.time()\n",
    "\n",
    "# Fine-tunear el modelo\n",
    "trainer.train()\n",
    "\n",
    "end_time = time.time()\n",
    "\n",
    "# Guardar el tiempo de fine-tuning\n",
    "training_time = end_time - start_time\n",
    "\n",
    "print(f\"Tiempo de fine-tuning: {training_time:.2f} segundos\")"
   ]
  },
  {
   "cell_type": "code",
   "execution_count": 42,
   "metadata": {},
   "outputs": [
    {
     "data": {
      "text/plain": [
       "('./distilbert_finetuned/tokenizer_config.json',\n",
       " './distilbert_finetuned/special_tokens_map.json',\n",
       " './distilbert_finetuned/vocab.txt',\n",
       " './distilbert_finetuned/added_tokens.json')"
      ]
     },
     "execution_count": 42,
     "metadata": {},
     "output_type": "execute_result"
    }
   ],
   "source": [
    "# Save the fine-tuned model\n",
    "fine_tuned_model_dir = \"./distilbert_finetuned\"\n",
    "model.save_pretrained(fine_tuned_model_dir)\n",
    "tokenizer.save_pretrained(fine_tuned_model_dir)"
   ]
  },
  {
   "cell_type": "code",
   "execution_count": 43,
   "metadata": {},
   "outputs": [],
   "source": [
    "# Step 3: Export the fine-tuned model to ONNX\n",
    "onnx_save_dir = \"distilbert_finetuned_onnx\"\n",
    "ort_model = ORTModelForSequenceClassification.from_pretrained(fine_tuned_model_dir, export=True)\n",
    "\n",
    "# Save the ONNX model\n",
    "ort_model.save_pretrained(onnx_save_dir)"
   ]
  },
  {
   "cell_type": "code",
   "execution_count": 44,
   "metadata": {},
   "outputs": [],
   "source": [
    "# Step 4: Quantize the model\n",
    "from optimum.onnxruntime import AutoQuantizationConfig, ORTQuantizer\n",
    "\n",
    "# Load the fine-tuned ONNX model\n",
    "qconfig = AutoQuantizationConfig.avx512_vnni(is_static=False, per_channel=True)\n",
    "quantizer = ORTQuantizer.from_pretrained(onnx_save_dir)\n",
    "\n",
    "# Quantize the model\n",
    "quantizer.quantize(save_dir=\"distilbert_finetuned_quantized\", quantization_config=qconfig)\n",
    "\n",
    "# Load the quantized model\n",
    "quantized_model = ORTModelForSequenceClassification.from_pretrained(\"distilbert_finetuned_quantized\")"
   ]
  },
  {
   "cell_type": "code",
   "execution_count": 46,
   "metadata": {},
   "outputs": [
    {
     "name": "stdout",
     "output_type": "stream",
     "text": [
      "Fine-tuned model inference time: 0.0078 seconds\n",
      "ONNX model inference time: 0.0082 seconds\n",
      "Quantized model inference time: 0.0039 seconds\n"
     ]
    },
    {
     "data": {
      "image/png": "[encoded data removed]",
      "text/plain": [
       "<Figure size 800x600 with 1 Axes>"
      ]
     },
     "metadata": {},
     "output_type": "display_data"
    }
   ],
   "source": [
    "# Step 5: Measure Inference Time for Fine-tuned Model\n",
    "onnx_clx_finetuned = pipeline(\"text-classification\", model=fine_tuned_model_dir)\n",
    "start_time = time.time()\n",
    "pred_finetuned = onnx_clx_finetuned(\"I bought a new laptop\")\n",
    "finetuned_inference_time = time.time() - start_time\n",
    "print(f\"Fine-tuned model inference time: {finetuned_inference_time:.4f} seconds\")\n",
    "\n",
    "# Step 6: Measure Inference Time for ONNX Model\n",
    "onnx_clx = pipeline(\"text-classification\", model=onnx_save_dir, accelerator=\"ort\")\n",
    "start_time = time.time()\n",
    "pred_onnx = onnx_clx(\"I bought a new laptop\")\n",
    "onnx_inference_time = time.time() - start_time\n",
    "print(f\"ONNX model inference time: {onnx_inference_time:.4f} seconds\")\n",
    "\n",
    "# Step 7: Measure Inference Time for Quantized Model\n",
    "onnx_clx_quantized = pipeline(\"text-classification\", model=quantized_model, accelerator=\"ort\")\n",
    "start_time = time.time()\n",
    "pred_quantized = onnx_clx_quantized(\"I bought a new laptop\")\n",
    "quantized_inference_time = time.time() - start_time\n",
    "print(f\"Quantized model inference time: {quantized_inference_time:.4f} seconds\")\n",
    "\n",
    "# Step 8: Compare and Graph Inference Times\n",
    "models = ['Fine-tuned', 'ONNX', 'Quantized']\n",
    "inference_times = [finetuned_inference_time, onnx_inference_time, quantized_inference_time]\n",
    "\n",
    "plt.figure(figsize=(8, 6))\n",
    "plt.bar(models, inference_times, color=['blue', 'green', 'red'])\n",
    "plt.xlabel('Model Type')\n",
    "plt.ylabel('Inference Time (seconds)')\n",
    "plt.title('Inference Time Comparison: Fine-tuned vs ONNX vs Quantized Models')\n",
    "plt.show()"
   ]
  },
  {
   "cell_type": "code",
   "execution_count": null,
   "metadata": {},
   "outputs": [],
   "source": []
  }
 ],
 "metadata": {
  "kernelspec": {
   "display_name": "venv",
   "language": "python",
   "name": "python3"
  },
  "language_info": {
   "codemirror_mode": {
    "name": "ipython",
    "version": 3
   },
   "file_extension": ".py",
   "mimetype": "text/x-python",
   "name": "python",
   "nbconvert_exporter": "python",
   "pygments_lexer": "ipython3",
   "version": "3.9.19"
  }
 },
 "nbformat": 4,
 "nbformat_minor": 2
}
